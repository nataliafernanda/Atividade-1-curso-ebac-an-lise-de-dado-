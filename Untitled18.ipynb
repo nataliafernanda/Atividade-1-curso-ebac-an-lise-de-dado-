{
  "nbformat": 4,
  "nbformat_minor": 0,
  "metadata": {
    "colab": {
      "provenance": []
    },
    "kernelspec": {
      "name": "python3",
      "display_name": "Python 3"
    },
    "language_info": {
      "name": "python"
    }
  },
  "cells": [
    {
      "cell_type": "code",
      "execution_count": null,
      "metadata": {
        "colab": {
          "base_uri": "https://localhost:8080/"
        },
        "id": "xO3_UVvO0F8-",
        "outputId": "3ca9b60b-cfb0-46d6-ce32-7328b61aba81"
      },
      "outputs": [
        {
          "output_type": "stream",
          "name": "stdout",
          "text": [
            "Olá mundo\n"
          ]
        }
      ],
      "source": [
        "print('Olá mundo')"
      ]
    },
    {
      "cell_type": "markdown",
      "source": [
        "![d598b445e12d005c31b225f2b83edd00-316.png](data:image/png;base64,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)"
      ],
      "metadata": {
        "id": "7Rd8fCzcNtk9"
      }
    },
    {
      "cell_type": "code",
      "source": [
        "# Valores dados na tabela\n",
        "valor_19_01 = None  # Preencha com o valor correspondente\n",
        "qtd_19_01 = 3\n",
        "\n",
        "valor_20_01 = 834.47\n",
        "qtd_20_01 = None  # Preencha com o valor correspondente\n",
        "\n",
        "valor_23_01 = 15378.12\n",
        "qtd_23_01 = 5\n",
        "\n",
        "# Calculando os valores\n",
        "if valor_19_01 is None:\n",
        "    valor_19_01 = round(320.52 * qtd_19_01, 2)\n",
        "\n",
        "if qtd_20_01 is None:\n",
        "    qtd_20_01 = round(valor_20_01 / 119.21, 2)\n",
        "\n",
        "if valor_23_01 is None:\n",
        "    valor_23_01 = round(15378.12 / qtd_23_01, 2)\n",
        "\n",
        "# Exibindo os resultados\n",
        "print(\"Valor Total Vendas em 19/01:\", valor_19_01)\n",
        "print(\"Qtd Total Vendas em 20/01:\", qtd_20_01)\n",
        "print(\"Valor Total Vendas em 23/01:\", valor_23_01)\n"
      ],
      "metadata": {
        "id": "OPJx5Kb1YFVB"
      },
      "execution_count": null,
      "outputs": []
    },
    {
      "cell_type": "markdown",
      "source": [],
      "metadata": {
        "id": "oMm3EeQptz2K"
      }
    },
    {
      "cell_type": "code",
      "source": [
        "noticia = 'Selic vai a 2,75% e supera expectativas; é a primeira alta em 6 anos.'\n"
      ],
      "metadata": {
        "id": "T7xAFonXmfli"
      },
      "execution_count": null,
      "outputs": []
    },
    {
      "cell_type": "code",
      "source": [
        "a = False\n",
        "b = True\n",
        "\n",
        "x = not a & b\n"
      ],
      "metadata": {
        "id": "3G2xaUBRt00v"
      },
      "execution_count": null,
      "outputs": []
    }
  ]
}